{
 "cells": [
  {
   "cell_type": "markdown",
   "metadata": {},
   "source": [
    "# Import packages"
   ]
  },
  {
   "cell_type": "code",
   "execution_count": null,
   "metadata": {},
   "outputs": [],
   "source": [
    "import tensorflow as tf\n",
    "import pandas as pd"
   ]
  },
  {
   "cell_type": "code",
   "execution_count": null,
   "metadata": {},
   "outputs": [],
   "source": [
    "from src.similarity_search.utils import *\n",
    "from src.siamese.siamese_image import *\n",
    "from src.similarity_search.similarity_search_image import *"
   ]
  },
  {
   "cell_type": "markdown",
   "metadata": {},
   "source": [
    "# Train embedding model for Siamese CNN model"
   ]
  },
  {
   "cell_type": "markdown",
   "metadata": {},
   "source": [
    "The embedding models will be trained with triplet loss.  \n",
    "Requisites: generate_training_data.ipynb was run and traning datasets were generated."
   ]
  },
  {
   "cell_type": "code",
   "execution_count": null,
   "metadata": {},
   "outputs": [],
   "source": [
    "input_path = \"TrainingData/SingleCategory/\"\n",
    "image_path = \"Images/\"\n",
    "ditto_input_path = \"TrainingData/AllCategories/\""
   ]
  },
  {
   "cell_type": "code",
   "execution_count": null,
   "metadata": {},
   "outputs": [],
   "source": [
    "import matplotlib.pyplot as plt\n",
    "def plot(losses, val_losses):\n",
    "    plt.plot(losses, label='Loss')\n",
    "    plt.plot(val_losses, label='val_loss')\n",
    "    plt.legend(loc='best')\n",
    "    plt.grid(True)\n",
    "    plt.show()"
   ]
  },
  {
   "cell_type": "code",
   "execution_count": null,
   "metadata": {},
   "outputs": [],
   "source": [
    "# You can replace these paths with other datasets in SingleCategory or AllCategories folders.\n",
    "# In generate_training_data.ipynb we splitted the generated triplets into training, test and valid datasets.\n",
    "# Since the triplets are only necessary for training the embedding models, we make an union of them all for training.\n",
    "data_paths = [input_path+\"art_train_img_triplets.jsonl\", input_path+\"art_test_img_triplets.jsonl\", input_path+\"art_valid_img_triplets.jsonl\"]\n",
    "anchors_train, pos_train, neg_train, Y_train = load_triplett_training_data(data_paths, image_path)\n",
    "# Specify which kind of building network should be used to train: \"VGG\", \"ResNet\" or the simple selfdefinded network \"CNN\"\n",
    "siamese_net = SiamesImage(\"CNN\") # VGG ResNet CNN\n",
    "# Path to save the trained model\n",
    "if not os.path.exists(\"Model\"):\n",
    "    os.makedirs(\"Model\")\n",
    "losses, val_losses = siamese_net.train(anchors_train, pos_train, neg_train, Y_train,\n",
    "                 epochs = 20, save_model_name=\"Model/embedding_model\", alpha=0.2)\n",
    "plot(losses, val_losses)"
   ]
  },
  {
   "cell_type": "markdown",
   "metadata": {},
   "source": [
    "# Test image models trained on all categories"
   ]
  },
  {
   "cell_type": "markdown",
   "metadata": {},
   "source": [
    "Requisites: ResNet was used as embedding model and trained with triplet loss and data of all categories.  \n",
    "The trained model should be saved into Model/CNN_trained_with_all_categories"
   ]
  },
  {
   "cell_type": "code",
   "execution_count": null,
   "metadata": {},
   "outputs": [],
   "source": [
    "model_path = \"Model/CNN_trained_with_all_categories/\"\n",
    "input_path = \"TrainingData/AllCategories/\"\n",
    "image_path = \"Images/\""
   ]
  },
  {
   "cell_type": "code",
   "execution_count": null,
   "metadata": {},
   "outputs": [],
   "source": [
    "## Daten aller Kategorien\n",
    "X_train_image_left, X_train_image_right,\\\n",
    "    X_test_image_left, X_test_image_right, Y_train, Y_test = load_and_resize_image(input_path+\"train.jsonl\",\\\n",
    "                                                                  input_path+\"test.jsonl\", image_path, triplet=False)\n",
    "# Modell laden: Use \"embedding_self_all_02\" for selfdefined model, \"embedding_resnet_02\" for ResNet model\n",
    "img_model = ImageClassifier(model_path+\"embedding_resnet_02\", load=True)\n",
    "# Fitten\n",
    "Precision, Recall, interpolated_precision,\\\n",
    "F1, optimal_threshold, scores = img_model.train(X_train_image_left, X_train_image_right, Y_train)\n",
    "# scores.dump('result/img_cosine_sia_resnet_allcat.txt')\n",
    "print(f\"Optimal threshold for image similarity search: {optimal_threshold}\")\n",
    "print(f\"Maximal F1 of text similarity search: {np.max(F1)}\")\n",
    "plot(F1, Precision, Recall, interpolated_precision)\n",
    "# Testen\n",
    "F1_test, Precision_test, Recall_test, Accuracy_test = img_model.test(\\\n",
    "                                        X_test_image_left,\\\n",
    "                                        X_test_image_right,\\\n",
    "                                        Y_test, optimal_threshold)\n",
    "print(\"Evaluate image model on test data\")\n",
    "print(f\" F1 = {F1_test}\\n Precision = {Precision_test}\\n Recall = {Recall_test}\\n Accuracy = {Accuracy_test}\")  "
   ]
  },
  {
   "cell_type": "markdown",
   "metadata": {},
   "source": [
    "# Test CNN model"
   ]
  },
  {
   "cell_type": "markdown",
   "metadata": {},
   "source": [
    "Requisites: Selfdefined CNN was used as embedding model and trained with triplet loss and different margin value on \n",
    "different product categories.  \n",
    "The trained model are saved in Model/CNN_per_category"
   ]
  },
  {
   "cell_type": "code",
   "execution_count": null,
   "metadata": {},
   "outputs": [],
   "source": [
    "model_path = \"Model/CNN_per_category/\"\n",
    "input_path = \"TrainingData/SingleCategory/\"\n",
    "image_path = \"Images/\""
   ]
  },
  {
   "cell_type": "code",
   "execution_count": null,
   "metadata": {},
   "outputs": [],
   "source": [
    "margins = [\"02\", \"06\", \"08\", \"09\"]\n",
    "cats = ['art', 'pet', 'home', 'garden', 'sport', 'toy', 'tool']\n",
    "result = {\"category\": cats, \"02\":[], \"06\":[], \"08\":[], \"09\":[]}"
   ]
  },
  {
   "cell_type": "code",
   "execution_count": null,
   "metadata": {},
   "outputs": [],
   "source": [
    "for margin in margins:\n",
    "    F1_scores = []\n",
    "    for cat in cats:\n",
    "        X_train_image_left, X_train_image_right,\\\n",
    "            X_test_image_left, X_test_image_right, Y_train, Y_test = load_and_resize_image(input_path+f\"{cat}_train.jsonl\",\\\n",
    "                                                                          input_path+f\"{cat}_test.jsonl\", image_path, triplet=False)\n",
    "        # Modell laden\n",
    "        img_model = ImageClassifier(model_path+f\"alpha_{margin}/embedding_{cat}\", load=True)\n",
    "        # Fitten\n",
    "        Precision, Recall, interpolated_precision,\\\n",
    "        F1, optimal_threshold, scores = img_model.train(X_train_image_left, X_train_image_right, Y_train)\n",
    "        # Testen\n",
    "        F1_test, Precision_test, Recall_test, Accuracy_test = img_model.test(\\\n",
    "                                                X_test_image_left,\\\n",
    "                                                X_test_image_right,\\\n",
    "                                                Y_test, optimal_threshold)\n",
    "        print(f\"Evaluate image model on test data of category {cat} and margin {margin}\")\n",
    "        print(f\" F1 = {F1_test}\\n Precision = {Precision_test}\\n Recall = {Recall_test}\\n Accuracy = {Accuracy_test}\")  \n",
    "        F1_scores.append(F1_test)\n",
    "    result[margin] = F1_scores"
   ]
  },
  {
   "cell_type": "code",
   "execution_count": null,
   "metadata": {},
   "outputs": [],
   "source": [
    "df_result = pd.DataFrame.from_dict(result)\n",
    "df_result"
   ]
  },
  {
   "cell_type": "code",
   "execution_count": null,
   "metadata": {},
   "outputs": [],
   "source": []
  }
 ],
 "metadata": {
  "interpreter": {
   "hash": "ac3a4f718b317d0f59de664fd35a817365df8aa5069a306a5d5a85d818aebd22"
  },
  "kernelspec": {
   "display_name": "Python 3",
   "language": "python",
   "name": "python3"
  },
  "language_info": {
   "codemirror_mode": {
    "name": "ipython",
    "version": 3
   },
   "file_extension": ".py",
   "mimetype": "text/x-python",
   "name": "python",
   "nbconvert_exporter": "python",
   "pygments_lexer": "ipython3",
   "version": "3.8.5"
  }
 },
 "nbformat": 4,
 "nbformat_minor": 2
}
